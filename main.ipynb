{
 "cells": [
  {
   "cell_type": "code",
   "execution_count": 1,
   "metadata": {},
   "outputs": [],
   "source": [
    "#Description: Predicting Ethereum Price with Python and Machine Learning"
   ]
  },
  {
   "cell_type": "code",
   "execution_count": 2,
   "metadata": {},
   "outputs": [],
   "source": [
    "import pandas as pd\n",
    "import numpy as np\n",
    "from sklearn.svm import SVR\n",
    "import matplotlib.pyplot as plt\n",
    "import requests\n",
    "plt.style.use('fivethirtyeight')\n",
    "\n",
    "# Import required libraries\n",
    "import requests\n",
    "from datetime import datetime, timedelta"
   ]
  },
  {
   "cell_type": "code",
   "execution_count": 3,
   "metadata": {},
   "outputs": [],
   "source": [
    "# Define the API endpoint and parameters\n",
    "endpoint = \"https://api.pro.coinbase.com/products/ETH-USD/candles\"\n",
    "params = {\n",
    "        \"start\": (datetime.now() - timedelta(days=365)).isoformat(),  # Start date (1 year ago)\n",
    "    \"end\": datetime.now().isoformat(),  # End date (today)\n",
    "    \"granularity\": 86400,  # Daily granularity (86400 seconds)\n",
    "}\n",
    "\n"
   ]
  },
  {
   "cell_type": "code",
   "execution_count": 4,
   "metadata": {},
   "outputs": [],
   "source": [
    "# Send a GET request to the API\n",
    "response = requests.get(endpoint, params=params)"
   ]
  },
  {
   "cell_type": "code",
   "execution_count": 5,
   "metadata": {},
   "outputs": [
    {
     "name": "stdout",
     "output_type": "stream",
     "text": [
      "Error: 400\n"
     ]
    }
   ],
   "source": [
    "\n",
    "# Check if the request was successful\n",
    "if response.status_code == 200:\n",
    "    data = response.json()['prices']\n",
    "    \n",
    "    # Convert the data to a Pandas DataFrame\n",
    "    df = pd.DataFrame(data, columns=['timestamp', 'price'])\n",
    "    df['timestamp'] = [datetime.fromtimestamp(ts / 1000) for ts in df['timestamp']]\n",
    "    df = df.set_index('timestamp')\n",
    "    \n",
    "    # Print the first few rows of the DataFrame\n",
    "    print(df.head())\n",
    "else:\n",
    "    print(f'Error: {response.status_code}')\n",
    "    \n",
    "    \n",
    "    \n",
    "    #Debug Code due to error code: 400 Bad Request"
   ]
  }
 ],
 "metadata": {
  "kernelspec": {
   "display_name": "base",
   "language": "python",
   "name": "python3"
  },
  "language_info": {
   "codemirror_mode": {
    "name": "ipython",
    "version": 3
   },
   "file_extension": ".py",
   "mimetype": "text/x-python",
   "name": "python",
   "nbconvert_exporter": "python",
   "pygments_lexer": "ipython3",
   "version": "3.11.5"
  }
 },
 "nbformat": 4,
 "nbformat_minor": 2
}
